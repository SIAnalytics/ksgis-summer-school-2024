{
 "cells": [
  {
   "cell_type": "markdown",
   "metadata": {},
   "source": [
    "# 2.1 전체 그림 파악하기 🖼️"
   ]
  },
  {
   "cell_type": "markdown",
   "metadata": {},
   "source": [
    "## Step 1. 용어 복습하기"
   ]
  },
  {
   "cell_type": "markdown",
   "metadata": {},
   "source": [
    "COG: Cloud Optimized GeoTIFF\n",
    "\n",
    "- 타일링과 오버뷰는 대용량 래스터 파일을 쉽게 접근할 수 있게 해 준다.\n",
    "- GeoTIFF는 원래 타일링과 오버뷰를 파일 내부에 저장한다.\n",
    "- GeoTIFF는 자료구조의 특성상 원격에서 타일링과 오버뷰에 접근할 수 없다.\n",
    "- COG는 원격에서 타일링과 오버뷰에 접근할 수 있도록 IFD 순서가 변경되었다."
   ]
  },
  {
   "cell_type": "markdown",
   "metadata": {},
   "source": [
    "STAC: SpatioTemporal Asset Catalogs\n",
    "\n",
    "- 공간 데이터를 기술하기 위한 유연한 메타데이터 표준이다.\n",
    "- JSON으로 이루어져있다.\n",
    "- 스키마 검증과 확장 추가가 비교적 자유롭다."
   ]
  },
  {
   "cell_type": "markdown",
   "metadata": {},
   "source": [
    "TiTiler: Dynamic Tile Server\n",
    "\n",
    "- 정적 타일 서버는 타일을 미리 캐싱한다.\n",
    "- 동적 타일 서버는 사용자의 요청이 있을 때 타일을 생성한다.\n",
    "- 정적 타일 서버와 동적 타일 서버는 서로 장단점이 다르다."
   ]
  },
  {
   "cell_type": "markdown",
   "metadata": {},
   "source": [
    "## Step 2. 클라우드 네이티브 공간정보에 대해 더 공부하기\n",
    "\n",
    "https://cloudnativegeo.org"
   ]
  }
 ],
 "metadata": {
  "language_info": {
   "name": "python"
  }
 },
 "nbformat": 4,
 "nbformat_minor": 2
}
